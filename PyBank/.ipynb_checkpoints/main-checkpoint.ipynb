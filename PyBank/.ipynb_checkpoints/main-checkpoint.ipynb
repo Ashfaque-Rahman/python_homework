{
 "cells": [
  {
   "cell_type": "code",
   "execution_count": 69,
   "id": "50c9b233",
   "metadata": {},
   "outputs": [],
   "source": [
    "# Initiallizing  library import\n",
    "import csv"
   ]
  },
  {
   "cell_type": "code",
   "execution_count": 70,
   "id": "8393030d-6e79-4f67-9e4d-56a01b9c2b9e",
   "metadata": {},
   "outputs": [],
   "source": [
    "# Initializing variables\n",
    "count_month = 0\n",
    "count_variation = 0\n",
    "total = 0\n",
    "total_variation = 0\n",
    "months = []\n",
    "profit_loss = []\n",
    "profit_loss_variation = []\n",
    "greatest_increase = 0\n",
    "greatest_decrease = 0"
   ]
  },
  {
   "cell_type": "code",
   "execution_count": 71,
   "id": "42439adb-7433-48e3-9675-2720126548e0",
   "metadata": {},
   "outputs": [],
   "source": [
    "# reading a csv file\n",
    "\n",
    "with open(\"budget_data.csv\", 'r') as csvfile:\n",
    "    csvreader = csv.reader(csvfile,delimiter = ',')\n",
    "    header = next(csvreader)       # separating the header from the main data\n",
    "    \n",
    "    # Using iteration to separate the months and profit_loss data into two separate lists. Also counting number of months and total profit_loss\n",
    "    \n",
    "    for row in csvreader:\n",
    "        months.append(row[0])      # appending the months into a new list\n",
    "        profit_loss.append(row[1]) # appending profit_loss data into a new list\n",
    "        total += int(row[1])       # calcultaiong total profti_loss\n",
    "        count_month += 1           # calculating total number of months\n",
    "    \n",
    "    # calculating the difference of profit_loss data between two consecutive months and appending the data into a new list\n",
    "    \n",
    "    for num in range(len(months)-1): # Using iteration and selecting iteration parameter as (number of months-1) because length of the new list resulting the difference between two consecutive month data would be less than 1 than original profit_loss data length \n",
    "        profit_loss_variation.append(int(profit_loss[num+1])-int(profit_loss[num]))         "
   ]
  },
  {
   "cell_type": "code",
   "execution_count": 72,
   "id": "5e9135a8-89ac-437b-91e1-19042c5b2479",
   "metadata": {},
   "outputs": [],
   "source": [
    "# Using iteration to find total changes in profit_loss over the entire period\n",
    "\n",
    "for value in profit_loss_variation:\n",
    "    total_variation += value\n",
    "    count_variation += 1\n",
    "    if value > greatest_increase:   # finding out the greatest increase in changes of profit_loss data and comparing each of the value from the list and updating the biggest value in the variable\n",
    "        greatest_increase = value\n",
    "    elif value < greatest_decrease: # finding out the greatest increase in changes of profit_loss data and comparing each of the value from the list and updating the lowest value in the variable\n",
    "        greatest_decrease = value\n",
    "\n",
    "# calculating the average of change in proft/loss over the entire period\n",
    "\n",
    "avg_change = round(total_variation/count_variation,2)"
   ]
  },
  {
   "cell_type": "code",
   "execution_count": 73,
   "id": "15a86e27-3298-4667-beb3-cb9e52b69896",
   "metadata": {},
   "outputs": [],
   "source": [
    "# finding out the month on which greatest increase and greatest decrease happened\n",
    "\n",
    "greatest_increase_month = months[profit_loss_variation.index(greatest_increase)+1]\n",
    "greatest_decrease_month = months[profit_loss_variation.index(greatest_decrease)+1]"
   ]
  },
  {
   "cell_type": "code",
   "execution_count": 74,
   "id": "d101fda3-067e-4a2d-b750-82068051e442",
   "metadata": {},
   "outputs": [],
   "source": [
    "# creating an output text file having all the results written inside\n",
    "\n",
    "with open(\"financial_analysis.txt\", \"w\") as file:\n",
    "    file.write(\"Financial Analysis\\n\")\n",
    "    file.write(\"------------------------\\n\")\n",
    "    file.write(f\"Total Months: {count_month}\\n\")\n",
    "    file.write(f\"Total: ${total}\\n\")\n",
    "    file.write(f\"Average Change: ${avg_change}\\n\")\n",
    "    file.write(f\"Greatest Increase in Profits: {greatest_increase_month} (${greatest_increase})\\n\")\n",
    "    file.write(f\"Greatest Decrease in Profits: {greatest_decrease_month} (${greatest_decrease})\")"
   ]
  },
  {
   "cell_type": "code",
   "execution_count": 76,
   "id": "c467541c-f459-4d37-912b-5eb669246a81",
   "metadata": {},
   "outputs": [
    {
     "name": "stdout",
     "output_type": "stream",
     "text": [
      "Financial Analysis\n",
      "------------------------\n",
      "Total Months: 86\n",
      "Total: $38382578\n",
      "Average Change: $-2315.12\n",
      "Greatest Increase in Profits: Feb-2012 ($1926159)\n",
      "Greatest Decrease in Profits: Sep-2013 ($-2196167)\n"
     ]
    }
   ],
   "source": [
    "# printing the result in the output terminal\n",
    "\n",
    "print(\"Financial Analysis\")\n",
    "print(\"------------------------\")\n",
    "print(f\"Total Months: {count_month}\")\n",
    "print(f\"Total: ${total}\")\n",
    "print(f\"Average Change: ${avg_change}\")\n",
    "print(f\"Greatest Increase in Profits: {greatest_increase_month} (${greatest_increase})\")\n",
    "print(f\"Greatest Decrease in Profits: {greatest_decrease_month} (${greatest_decrease})\")"
   ]
  }
 ],
 "metadata": {
  "kernelspec": {
   "display_name": "Python 3",
   "language": "python",
   "name": "python3"
  },
  "language_info": {
   "codemirror_mode": {
    "name": "ipython",
    "version": 3
   },
   "file_extension": ".py",
   "mimetype": "text/x-python",
   "name": "python",
   "nbconvert_exporter": "python",
   "pygments_lexer": "ipython3",
   "version": "3.8.8"
  }
 },
 "nbformat": 4,
 "nbformat_minor": 5
}
