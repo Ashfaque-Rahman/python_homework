{
 "cells": [
  {
   "cell_type": "code",
   "execution_count": 78,
   "id": "29c31917",
   "metadata": {},
   "outputs": [],
   "source": [
    "# Initiallizing  library import\n",
    "\n",
    "import csv"
   ]
  },
  {
   "cell_type": "code",
   "execution_count": 79,
   "id": "eb992c51-8f20-4954-88e3-88f87cdadd3c",
   "metadata": {},
   "outputs": [],
   "source": [
    "# Initializing lists and dictionaries\n",
    "\n",
    "menu = []\n",
    "sales = []\n",
    "report = {}"
   ]
  },
  {
   "cell_type": "code",
   "execution_count": 80,
   "id": "3cc84187-90f9-48b6-ad80-0ec840905937",
   "metadata": {},
   "outputs": [],
   "source": [
    "# reading menu_data csv file\n",
    "\n",
    "with open(\"menu_data.csv\", \"r\") as csvfile:\n",
    "    csvreader = csv.reader(csvfile,delimiter = \",\")\n",
    "    header = next(csvreader) # separating the header from the main data\n",
    "    \n",
    "    for row in csvreader:\n",
    "        menu.append(row)     # appending the menu_data into the menu list        "
   ]
  },
  {
   "cell_type": "code",
   "execution_count": 81,
   "id": "afb2a029-5a71-4ae5-801c-c0c12d6ca1ac",
   "metadata": {},
   "outputs": [],
   "source": [
    "# reading sales_data csv file\n",
    "\n",
    "with open(\"sales_data.csv\", \"r\") as salesfile:\n",
    "    sales_reader = csv.reader(salesfile,delimiter = \",\")\n",
    "    header = next(sales_reader) # separating the header from the main data\n",
    "    \n",
    "    for num in sales_reader:\n",
    "        sales.append(num)       # appending the sales_data into the sales list   "
   ]
  },
  {
   "cell_type": "code",
   "execution_count": 82,
   "id": "b475c212-124d-43d3-9613-de5541d7d7fe",
   "metadata": {},
   "outputs": [],
   "source": [
    "# Using iteration separating quantity, menu_item from the list into their respective variables \n",
    "\n",
    "for sales_item in sales:\n",
    "    quantity = int(sales_item[3])  # Taking value from sales list and assigning it to it's respective variable\n",
    "    menu_item = sales_item[4]      # Taking value from sales list and assigning it to it's respective variable\n",
    "    if menu_item not in report:    # preparing the report dictionary from the large sales list including only unique item which are not in the report idctionary\n",
    "        report[menu_item] = {\n",
    "                                \"01-count\": 0,\n",
    "                                \"02-revenue\": 0,\n",
    "                                \"03-cogs\": 0,\n",
    "                                \"04-profit\": 0,\n",
    "                            }\n",
    "    \n",
    "    # Using nested iteration to find out individual items price, cost and item name and assigning them to their respective variables\n",
    "    for i in menu:                 \n",
    "        item = i[0]\n",
    "        price = float(i[3])\n",
    "        cost = float(i[4])\n",
    "        if menu_item == item:     # If there is a match between a sales data and menu data, we are calculating it's profit and updating it's sales quantity,price, cost of goods and profits to the report dictionary using key,value pair\n",
    "            profit = price - cost\n",
    "            report[menu_item][\"01-count\"] += quantity            # Calcuating profit\n",
    "            report[menu_item][\"02-revenue\"] += price * quantity  # updating revenue in the report dictionary using key, value combination and iteration\n",
    "            report[menu_item][\"03-cogs\"] += cost * quantity      # updating cost of goods in the report dictionary using key, value combination and iteration\n",
    "            report[menu_item][\"04-profit\"] += profit * quantity  # updating profit in the report dictionary using key, value combination and iteration\n",
    "        else:\n",
    "            print(f\"{menu_item} does not equal {item}! NO MATCH!\") #printing not match message if there is no match betwwen menu data and sales data"
   ]
  },
  {
   "cell_type": "code",
   "execution_count": 83,
   "id": "7eec3d0a-4496-44f7-b987-d64df78f2775",
   "metadata": {},
   "outputs": [],
   "source": [
    "# creating an output text file having all the results written inside\n",
    "\n",
    "with open(\"report.txt\", \"w\") as file:\n",
    "    for key,value in report.items():\n",
    "        file.write(f\"{key} {value}\\n\")"
   ]
  }
 ],
 "metadata": {
  "kernelspec": {
   "display_name": "Python 3",
   "language": "python",
   "name": "python3"
  },
  "language_info": {
   "codemirror_mode": {
    "name": "ipython",
    "version": 3
   },
   "file_extension": ".py",
   "mimetype": "text/x-python",
   "name": "python",
   "nbconvert_exporter": "python",
   "pygments_lexer": "ipython3",
   "version": "3.8.8"
  }
 },
 "nbformat": 4,
 "nbformat_minor": 5
}
